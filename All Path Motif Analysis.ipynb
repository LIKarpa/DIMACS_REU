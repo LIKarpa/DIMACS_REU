{
 "cells": [
  {
   "cell_type": "markdown",
   "id": "6e1abb43",
   "metadata": {},
   "source": [
    "# All Path Motif Analysis\n"
   ]
  },
  {
   "cell_type": "markdown",
   "id": "b56ebd64",
   "metadata": {},
   "source": [
    "### Install necessary modules"
   ]
  },
  {
   "cell_type": "code",
   "execution_count": 1,
   "id": "97bc6eab",
   "metadata": {},
   "outputs": [
    {
     "name": "stdout",
     "output_type": "stream",
     "text": [
      "Requirement already satisfied: GraphRicciCurvature in /Users/Liron/opt/anaconda3/lib/python3.9/site-packages (0.5.3.1)\n",
      "Requirement already satisfied: numpy in /Users/Liron/opt/anaconda3/lib/python3.9/site-packages (from GraphRicciCurvature) (1.20.3)\n",
      "Requirement already satisfied: cython in /Users/Liron/opt/anaconda3/lib/python3.9/site-packages (from GraphRicciCurvature) (0.29.24)\n",
      "Requirement already satisfied: pot>=0.8.0 in /Users/Liron/opt/anaconda3/lib/python3.9/site-packages (from GraphRicciCurvature) (0.8.2)\n",
      "Requirement already satisfied: packaging in /Users/Liron/opt/anaconda3/lib/python3.9/site-packages (from GraphRicciCurvature) (21.0)\n",
      "Requirement already satisfied: networkit>=6.1 in /Users/Liron/opt/anaconda3/lib/python3.9/site-packages (from GraphRicciCurvature) (9.0)\n",
      "Requirement already satisfied: python-louvain in /Users/Liron/opt/anaconda3/lib/python3.9/site-packages (from GraphRicciCurvature) (0.16)\n",
      "Requirement already satisfied: networkx>=2.0 in /Users/Liron/opt/anaconda3/lib/python3.9/site-packages (from GraphRicciCurvature) (2.8.3)\n",
      "Requirement already satisfied: scipy>=1.0 in /Users/Liron/opt/anaconda3/lib/python3.9/site-packages (from GraphRicciCurvature) (1.8.1)\n",
      "Requirement already satisfied: pyparsing>=2.0.2 in /Users/Liron/opt/anaconda3/lib/python3.9/site-packages (from packaging->GraphRicciCurvature) (3.0.4)\n",
      "Requirement already satisfied: scikit-learn in /Users/Liron/opt/anaconda3/lib/python3.9/site-packages (0.24.2)\n",
      "Requirement already satisfied: joblib>=0.11 in /Users/Liron/opt/anaconda3/lib/python3.9/site-packages (from scikit-learn) (1.1.0)\n",
      "Requirement already satisfied: scipy>=0.19.1 in /Users/Liron/opt/anaconda3/lib/python3.9/site-packages (from scikit-learn) (1.8.1)\n",
      "Requirement already satisfied: threadpoolctl>=2.0.0 in /Users/Liron/opt/anaconda3/lib/python3.9/site-packages (from scikit-learn) (2.2.0)\n",
      "Requirement already satisfied: numpy>=1.13.3 in /Users/Liron/opt/anaconda3/lib/python3.9/site-packages (from scikit-learn) (1.20.3)\n"
     ]
    },
    {
     "data": {
      "text/html": [
       "\n",
       "\t\t\t<script type=\"text/javascript\">\n",
       "\t\t\t<!--\n",
       "\t\t\t\t\n",
       "\t\t\t{\n",
       "\t\t\t\tvar element = document.getElementById('NetworKit_script');\n",
       "\t\t\t\tif (element) {\n",
       "\t\t\t\t\telement.parentNode.removeChild(element);\n",
       "\t\t\t\t}\n",
       "\t\t\t\telement = document.createElement('script');\n",
       "\t\t\t\telement.type = 'text/javascript';\n",
       "\t\t\t\telement.innerHTML = 'function NetworKit_pageEmbed(id) { var i, j; var elements; elements = document.getElementById(id).getElementsByClassName(\"Plot\"); for (i=0; i<elements.length; i++) { elements[i].id = id + \"_Plot_\" + i; var data = elements[i].getAttribute(\"data-image\").split(\"|\"); elements[i].removeAttribute(\"data-image\"); var content = \"<div class=\\\\\"Image\\\\\" id=\\\\\"\" + elements[i].id + \"_Image\\\\\" />\"; elements[i].innerHTML = content; elements[i].setAttribute(\"data-image-index\", 0); elements[i].setAttribute(\"data-image-length\", data.length); for (j=0; j<data.length; j++) { elements[i].setAttribute(\"data-image-\" + j, data[j]); } NetworKit_plotUpdate(elements[i]); elements[i].onclick = function (e) { NetworKit_overlayShow((e.target) ? e.target : e.srcElement); } } elements = document.getElementById(id).getElementsByClassName(\"HeatCell\"); for (i=0; i<elements.length; i++) { var data = parseFloat(elements[i].getAttribute(\"data-heat\")); var color = \"#00FF00\"; if (data <= 1 && data > 0) { color = \"hsla(0, 100%, 75%, \" + (data) + \")\"; } else if (data <= 0 && data >= -1) { color = \"hsla(240, 100%, 75%, \" + (-data) + \")\"; } elements[i].style.backgroundColor = color; } elements = document.getElementById(id).getElementsByClassName(\"Details\"); for (i=0; i<elements.length; i++) { elements[i].setAttribute(\"data-title\", \"-\"); NetworKit_toggleDetails(elements[i]); elements[i].onclick = function (e) { NetworKit_toggleDetails((e.target) ? e.target : e.srcElement); } } elements = document.getElementById(id).getElementsByClassName(\"MathValue\"); for (i=elements.length-1; i>=0; i--) { value = elements[i].innerHTML.trim(); if (value === \"nan\") { elements[i].parentNode.innerHTML = \"\" } } elements = document.getElementById(id).getElementsByClassName(\"SubCategory\"); for (i=elements.length-1; i>=0; i--) { value = elements[i].innerHTML.trim(); if (value === \"\") { elements[i].parentNode.removeChild(elements[i]) } } elements = document.getElementById(id).getElementsByClassName(\"Category\"); for (i=elements.length-1; i>=0; i--) { value = elements[i].innerHTML.trim(); if (value === \"\") { elements[i].parentNode.removeChild(elements[i]) } } var isFirefox = false; try { isFirefox = typeof InstallTrigger !== \"undefined\"; } catch (e) {} if (!isFirefox) { alert(\"Currently the function\\'s output is only fully supported by Firefox.\"); } } function NetworKit_plotUpdate(source) { var index = source.getAttribute(\"data-image-index\"); var data = source.getAttribute(\"data-image-\" + index); var image = document.getElementById(source.id + \"_Image\"); image.style.backgroundImage = \"url(\" + data + \")\"; } function NetworKit_showElement(id, show) { var element = document.getElementById(id); element.style.display = (show) ? \"block\" : \"none\"; } function NetworKit_overlayShow(source) { NetworKit_overlayUpdate(source); NetworKit_showElement(\"NetworKit_Overlay\", true); } function NetworKit_overlayUpdate(source) { document.getElementById(\"NetworKit_Overlay_Title\").innerHTML = source.title; var index = source.getAttribute(\"data-image-index\"); var data = source.getAttribute(\"data-image-\" + index); var image = document.getElementById(\"NetworKit_Overlay_Image\"); image.setAttribute(\"data-id\", source.id); image.style.backgroundImage = \"url(\" + data + \")\"; var link = document.getElementById(\"NetworKit_Overlay_Toolbar_Bottom_Save\"); link.href = data; link.download = source.title + \".svg\"; } function NetworKit_overlayImageShift(delta) { var image = document.getElementById(\"NetworKit_Overlay_Image\"); var source = document.getElementById(image.getAttribute(\"data-id\")); var index = parseInt(source.getAttribute(\"data-image-index\")); var length = parseInt(source.getAttribute(\"data-image-length\")); var index = (index+delta) % length; if (index < 0) { index = length + index; } source.setAttribute(\"data-image-index\", index); NetworKit_overlayUpdate(source); } function NetworKit_toggleDetails(source) { var childs = source.children; var show = false; if (source.getAttribute(\"data-title\") == \"-\") { source.setAttribute(\"data-title\", \"+\"); show = false; } else { source.setAttribute(\"data-title\", \"-\"); show = true; } for (i=0; i<childs.length; i++) { if (show) { childs[i].style.display = \"block\"; } else { childs[i].style.display = \"none\"; } } }';\n",
       "\t\t\t\telement.setAttribute('id', 'NetworKit_script');\n",
       "\t\t\t\tdocument.head.appendChild(element);\n",
       "\t\t\t}\n",
       "\t\t\n",
       "\t\t\t\t\n",
       "\t\t\t{\n",
       "\t\t\t\tvar element = document.getElementById('NetworKit_style');\n",
       "\t\t\t\tif (element) {\n",
       "\t\t\t\t\telement.parentNode.removeChild(element);\n",
       "\t\t\t\t}\n",
       "\t\t\t\telement = document.createElement('style');\n",
       "\t\t\t\telement.type = 'text/css';\n",
       "\t\t\t\telement.innerHTML = '.NetworKit_Page { font-family: Arial, Helvetica, sans-serif; font-size: 14px; } .NetworKit_Page .Value:before { font-family: Arial, Helvetica, sans-serif; font-size: 1.05em; content: attr(data-title) \":\"; margin-left: -2.5em; padding-right: 0.5em; } .NetworKit_Page .Details .Value:before { display: block; } .NetworKit_Page .Value { font-family: monospace; white-space: pre; padding-left: 2.5em; white-space: -moz-pre-wrap !important; white-space: -pre-wrap; white-space: -o-pre-wrap; white-space: pre-wrap; word-wrap: break-word; tab-size: 4; -moz-tab-size: 4; } .NetworKit_Page .Category { clear: both; padding-left: 1em; margin-bottom: 1.5em; } .NetworKit_Page .Category:before { content: attr(data-title); font-size: 1.75em; display: block; margin-left: -0.8em; margin-bottom: 0.5em; } .NetworKit_Page .SubCategory { margin-bottom: 1.5em; padding-left: 1em; } .NetworKit_Page .SubCategory:before { font-size: 1.6em; display: block; margin-left: -0.8em; margin-bottom: 0.5em; } .NetworKit_Page .SubCategory[data-title]:before { content: attr(data-title); } .NetworKit_Page .Block { display: block; } .NetworKit_Page .Block:after { content: \".\"; visibility: hidden; display: block; height: 0; clear: both; } .NetworKit_Page .Block .Thumbnail_Overview, .NetworKit_Page .Block .Thumbnail_ScatterPlot { width: 260px; float: left; } .NetworKit_Page .Block .Thumbnail_Overview img, .NetworKit_Page .Block .Thumbnail_ScatterPlot img { width: 260px; } .NetworKit_Page .Block .Thumbnail_Overview:before, .NetworKit_Page .Block .Thumbnail_ScatterPlot:before { display: block; text-align: center; font-weight: bold; } .NetworKit_Page .Block .Thumbnail_Overview:before { content: attr(data-title); } .NetworKit_Page .HeatCell { font-family: \"Courier New\", Courier, monospace; cursor: pointer; } .NetworKit_Page .HeatCell, .NetworKit_Page .HeatCellName { display: inline; padding: 0.1em; margin-right: 2px; background-color: #FFFFFF } .NetworKit_Page .HeatCellName { margin-left: 0.25em; } .NetworKit_Page .HeatCell:before { content: attr(data-heat); display: inline-block; color: #000000; width: 4em; text-align: center; } .NetworKit_Page .Measure { clear: both; } .NetworKit_Page .Measure .Details { cursor: pointer; } .NetworKit_Page .Measure .Details:before { content: \"[\" attr(data-title) \"]\"; display: block; } .NetworKit_Page .Measure .Details .Value { border-left: 1px dotted black; margin-left: 0.4em; padding-left: 3.5em; pointer-events: none; } .NetworKit_Page .Measure .Details .Spacer:before { content: \".\"; opacity: 0.0; pointer-events: none; } .NetworKit_Page .Measure .Plot { width: 440px; height: 440px; cursor: pointer; float: left; margin-left: -0.9em; margin-right: 20px; } .NetworKit_Page .Measure .Plot .Image { background-repeat: no-repeat; background-position: center center; background-size: contain; height: 100%; pointer-events: none; } .NetworKit_Page .Measure .Stat { width: 500px; float: left; } .NetworKit_Page .Measure .Stat .Group { padding-left: 1.25em; margin-bottom: 0.75em; } .NetworKit_Page .Measure .Stat .Group .Title { font-size: 1.1em; display: block; margin-bottom: 0.3em; margin-left: -0.75em; border-right-style: dotted; border-right-width: 1px; border-bottom-style: dotted; border-bottom-width: 1px; background-color: #D0D0D0; padding-left: 0.2em; } .NetworKit_Page .Measure .Stat .Group .List { -webkit-column-count: 3; -moz-column-count: 3; column-count: 3; } .NetworKit_Page .Measure .Stat .Group .List .Entry { position: relative; line-height: 1.75em; } .NetworKit_Page .Measure .Stat .Group .List .Entry[data-tooltip]:before { position: absolute; left: 0; top: -40px; background-color: #808080; color: #ffffff; height: 30px; line-height: 30px; border-radius: 5px; padding: 0 15px; content: attr(data-tooltip); white-space: nowrap; display: none; } .NetworKit_Page .Measure .Stat .Group .List .Entry[data-tooltip]:after { position: absolute; left: 15px; top: -10px; border-top: 7px solid #808080; border-left: 7px solid transparent; border-right: 7px solid transparent; content: \"\"; display: none; } .NetworKit_Page .Measure .Stat .Group .List .Entry[data-tooltip]:hover:after, .NetworKit_Page .Measure .Stat .Group .List .Entry[data-tooltip]:hover:before { display: block; } .NetworKit_Page .Measure .Stat .Group .List .Entry .MathValue { font-family: \"Courier New\", Courier, monospace; } .NetworKit_Page .Measure:after { content: \".\"; visibility: hidden; display: block; height: 0; clear: both; } .NetworKit_Page .PartitionPie { clear: both; } .NetworKit_Page .PartitionPie img { width: 600px; } #NetworKit_Overlay { left: 0px; top: 0px; display: none; position: absolute; width: 100%; height: 100%; background-color: rgba(0,0,0,0.6); z-index: 1000; } #NetworKit_Overlay_Title { position: absolute; color: white; transform: rotate(-90deg); width: 32em; height: 32em; padding-right: 0.5em; padding-top: 0.5em; text-align: right; font-size: 40px; } #NetworKit_Overlay .button { background: white; cursor: pointer; } #NetworKit_Overlay .button:before { size: 13px; display: inline-block; text-align: center; margin-top: 0.5em; margin-bottom: 0.5em; width: 1.5em; height: 1.5em; } #NetworKit_Overlay .icon-close:before { content: \"X\"; } #NetworKit_Overlay .icon-previous:before { content: \"P\"; } #NetworKit_Overlay .icon-next:before { content: \"N\"; } #NetworKit_Overlay .icon-save:before { content: \"S\"; } #NetworKit_Overlay_Toolbar_Top, #NetworKit_Overlay_Toolbar_Bottom { position: absolute; width: 40px; right: 13px; text-align: right; z-index: 1100; } #NetworKit_Overlay_Toolbar_Top { top: 0.5em; } #NetworKit_Overlay_Toolbar_Bottom { Bottom: 0.5em; } #NetworKit_Overlay_ImageContainer { position: absolute; top: 5%; left: 5%; height: 90%; width: 90%; background-repeat: no-repeat; background-position: center center; background-size: contain; } #NetworKit_Overlay_Image { height: 100%; width: 100%; background-repeat: no-repeat; background-position: center center; background-size: contain; }';\n",
       "\t\t\t\telement.setAttribute('id', 'NetworKit_style');\n",
       "\t\t\t\tdocument.head.appendChild(element);\n",
       "\t\t\t}\n",
       "\t\t\n",
       "\t\t\t\t\n",
       "\t\t\t{\n",
       "\t\t\t\tvar element = document.getElementById('NetworKit_Overlay');\n",
       "\t\t\t\tif (element) {\n",
       "\t\t\t\t\telement.parentNode.removeChild(element);\n",
       "\t\t\t\t}\n",
       "\t\t\t\telement = document.createElement('div');\n",
       "\t\t\t\telement.innerHTML = '<div id=\"NetworKit_Overlay_Toolbar_Top\"><div class=\"button icon-close\" id=\"NetworKit_Overlay_Close\" /></div><div id=\"NetworKit_Overlay_Title\" /> <div id=\"NetworKit_Overlay_ImageContainer\"> <div id=\"NetworKit_Overlay_Image\" /> </div> <div id=\"NetworKit_Overlay_Toolbar_Bottom\"> <div class=\"button icon-previous\" onclick=\"NetworKit_overlayImageShift(-1)\" /> <div class=\"button icon-next\" onclick=\"NetworKit_overlayImageShift(1)\" /> <a id=\"NetworKit_Overlay_Toolbar_Bottom_Save\"><div class=\"button icon-save\" /></a> </div>';\n",
       "\t\t\t\telement.setAttribute('id', 'NetworKit_Overlay');\n",
       "\t\t\t\tdocument.body.appendChild(element);\n",
       "\t\t\t\tdocument.getElementById('NetworKit_Overlay_Close').onclick = function (e) {\n",
       "\t\t\t\t\tdocument.getElementById('NetworKit_Overlay').style.display = 'none';\n",
       "\t\t\t\t}\n",
       "\t\t\t}\n",
       "\t\t\n",
       "\t\t\t-->\n",
       "\t\t\t</script>\n",
       "\t\t"
      ]
     },
     "metadata": {},
     "output_type": "display_data"
    }
   ],
   "source": [
    "# Installs necessary modules\n",
    "!pip install GraphRicciCurvature\n",
    "!pip install scikit-learn\n",
    "\n",
    "# import sys\n",
    "# sys.path.append(\"../\")\n",
    "import networkx as nx\n",
    "import networkit as nk\n",
    "import numpy as np\n",
    "import math\n",
    "\n",
    "# matplotlib setting\n",
    "%matplotlib inline\n",
    "import matplotlib.pyplot as plt\n",
    "\n",
    "# to print logs in jupyter notebook\n",
    "import logging\n",
    "logging.basicConfig(format='%(levelname)s:%(message)s', level=logging.ERROR)\n",
    "\n",
    "# load GraphRicciCuravture package\n",
    "from GraphRicciCurvature.OllivierRicci import OllivierRicci\n",
    "from GraphRicciCurvature.FormanRicci import FormanRicci\n",
    "\n",
    "\n",
    "# load python-louvain for modularity computation\n",
    "import community as community_louvain\n",
    "\n",
    "# for ARI computation\n",
    "from sklearn import preprocessing, metrics"
   ]
  },
  {
   "cell_type": "markdown",
   "id": "18a5fa2c",
   "metadata": {},
   "source": [
    "### Functions for counting the number of paths of a given pattern"
   ]
  },
  {
   "cell_type": "code",
   "execution_count": 2,
   "id": "1f0591ea",
   "metadata": {},
   "outputs": [],
   "source": [
    "import copy\n",
    "\n",
    "# Takes in a list of characters from {N,F,P} and a graph with \n",
    "# edge curvature attribute. Returns the number of paths from \n",
    "# each node with the curvature pattern specified by the input list.\n",
    "# N means negative curvature, F means neutral curvature, and P \n",
    "# means positive curvature. We consider an edge's curvature value to \n",
    "# be negative when between [-1, -0.33), flat \n",
    "# when between [-0.33, 0.33], and positive when between (0.33,1]. \n",
    "# E.g. A sequence of edges with curvatures -0.3, .56, 0 respectively\n",
    "# would match the input pattern [F, P, F].\n",
    "def get_paths(G, patt):\n",
    "    \n",
    "    # If pattern is empty then there are no matches\n",
    "    if len(patt) == 0:\n",
    "        return 0\n",
    "    else:\n",
    "        \n",
    "        # Collects all paths\n",
    "        all_paths = []\n",
    "        for x in G.nodes():\n",
    "            \n",
    "            # Iteratively puts all_paths back intro function call\n",
    "            # to append new paths.\n",
    "            get_paths_helper(G, patt, all_paths, [x], x)\n",
    "        return all_paths\n",
    "\n",
    "\n",
    "# Input is a graph, the remaining curvature pattern to be matched, \n",
    "# a list to store all the paths, a variable that stores the current path \n",
    "# as a sequence of vertices during the recursive work, and the current vertex. \n",
    "# Adds paths that, building off of the current path, completely match \n",
    "# input pattern to the list of all paths.\n",
    "# E.g. When cur_path is [v1, v2, v3] and there is an edge (v3, v4) with\n",
    "# curvature -0.6 and another edge (v4, v5) with curvature 0.1 and another \n",
    "# edge (v4, v6) with curvature 0.2 and the remaining pattern is [N, F] then \n",
    "# we will add the paths [v1, v2, v3, v4, v5] and [v1, v2, v3, v4, v6] to \n",
    "# our total paths list.\n",
    "def get_paths_helper(G, patt, all_paths, cur_path, cur_vert):\n",
    "    \n",
    "    # Base case. When the pattern is empty, the current path is \n",
    "    # added to the list of all paths since the current path\n",
    "    # matched the initial input pattern.\n",
    "    if len(patt) == 0:\n",
    "        all_paths.append(copy.copy(cur_path)) \n",
    "    else:\n",
    "        \n",
    "        # If pattern is not exhausted, then for each neighbor of the\n",
    "        # current vertex, see if the edge to any of its neighbors\n",
    "        # matches the next curvature value in the pattern. If so repeat\n",
    "        # the procedure on those nodes.\n",
    "        for neighbor in G.neighbors(cur_vert):\n",
    "            \n",
    "            # This prevents the algorithms from finding all the walks.\n",
    "            # We do not want vertices repeated in a path.\n",
    "            if neighbor in cur_path:\n",
    "                continue\n",
    "            \n",
    "            # Stores the curvature of the edge from the current vertex \n",
    "            # to the particular neighbor\n",
    "            curv = G.get_edge_data(cur_vert, neighbor)['ricciCurvature']\n",
    "            \n",
    "            # Condition checks whether the sign of the curvature on the edge\n",
    "            # matches the corresponding character of the next pattern element.\n",
    "            if ((patt[0] == 'N') and (curv < -0.33)) or ((patt[0] == 'P') and (curv > 0.33)) or ((patt[0] == 'F') and (curv <= 0.33) and (curv >= -0.33)):\n",
    "                \n",
    "                # If the edge has a curvature of the matching sign then\n",
    "                # the neighbor node is added to the current path.\n",
    "                cur_path.append(neighbor)\n",
    "                \n",
    "                # We recurse on the neighbor node\n",
    "                get_paths_helper(G, patt[1:], all_paths, cur_path, neighbor)\n",
    "                \n",
    "                # We remove the current neighbor node for the next iteration \n",
    "                # so we can consider a different neighbor node.\n",
    "                cur_path.pop()\n",
    "    return                \n",
    "   \n",
    "    \n",
    "# Returns the number of paths in undirected input graph that \n",
    "# match the curvature pattern specified by the variable patt.\n",
    "def get_num_paths_undir(G, patt):\n",
    "    all_paths = get_paths(G, patt)\n",
    "    \n",
    "    # If the pattern is symmetric then get_paths\n",
    "    # will have double counted each path (each path will \n",
    "    # have been counted for both endnodes).\n",
    "    if patt == list(reversed(patt)):\n",
    "        return int(len(all_paths)/2)\n",
    "    else: \n",
    "        return len(all_paths)\n",
    "    \n",
    "# Returns the number of paths in directed input graph that \n",
    "# match the curvature pattern specified by the variable patt.\n",
    "def get_num_paths_dir(G, patt):\n",
    "    all_paths = get_paths(G, patt)\n",
    "    return len(all_paths)\n",
    "    \n"
   ]
  },
  {
   "cell_type": "markdown",
   "id": "c418e1ac",
   "metadata": {},
   "source": [
    "## C. Elegan Analysis"
   ]
  },
  {
   "cell_type": "code",
   "execution_count": 3,
   "id": "512c357d",
   "metadata": {},
   "outputs": [
    {
     "name": "stderr",
     "output_type": "stream",
     "text": [
      "INFO:Edge weight not detected in graph, use \"weight\" as default edge weight.\n",
      "TRACE:Number of nodes: 272\n",
      "TRACE:Number of edges: 4388\n",
      "TRACE:Start to compute all pair shortest path.\n",
      "TRACE:0.011935 secs for all pair by NetworKit.\n",
      "INFO:0.295051 secs for Ricci curvature computation.\n"
     ]
    }
   ],
   "source": [
    "# Reads in C. Elegans Connectome\n",
    "eleCme = nx.read_graphml(\"c.elegans_neural.male_1.graphml\")\n",
    "\n",
    "# Self loops are removed since no self loop can be on any path.\n",
    "# The ricci curvature computation would remove self loops anyway\n",
    "# so it is best to remove them beforehand. This way when we compute\n",
    "# random graphs we are not removing a potentially different\n",
    "# number of self loops each time to compute the curvature.\n",
    "self_loops = []\n",
    "for (v, w) in eleCme.edges():\n",
    "    if v == w:\n",
    "        self_loops.append(v)\n",
    "for v in self_loops:\n",
    "    eleCme.remove_edge(v,v)\n",
    "    \n",
    "# Computes Ricci Curvature for C. Elegans Connectome without self-loops\n",
    "orc = OllivierRicci(eleCme, alpha=0.5, verbose=\"TRACE\")\n",
    "orc.compute_ricci_curvature()\n",
    "eleCme_orc = orc.G.copy()"
   ]
  },
  {
   "cell_type": "code",
   "execution_count": 4,
   "id": "a79e65f1",
   "metadata": {},
   "outputs": [
    {
     "name": "stdout",
     "output_type": "stream",
     "text": [
      "[['F', 'N', 'F'], ['F', 'F', 'N'], ['F', 'F', 'F']]\n"
     ]
    }
   ],
   "source": [
    "# For each path pattern of length 3, stores \n",
    "# the number of matches in a dictionary and\n",
    "# accumulates the total number of paths.\n",
    "three_patt_count = {}\n",
    "total_3_paths = 0\n",
    "for x in ['N', 'F', 'P']:\n",
    "    for y in ['N', 'F', 'P']:\n",
    "        for z in ['N', 'F', 'P']:\n",
    "            num_paths = get_num_paths_dir(eleCme_orc, [x, y, z])\n",
    "            three_patt_count[(x, y, z)] = num_paths\n",
    "            total_3_paths = total_3_paths + num_paths\n",
    "            \n",
    "# Converts the dictionary of match counts to\n",
    "# a dictionary of match frequencies relative\n",
    "# to all matches.\n",
    "three_patt_freq = {}\n",
    "for patt in three_patt_count.keys():\n",
    "    three_patt_freq[patt] = three_patt_count[patt]/total_3_paths\n",
    "    \n",
    "# Gets a list of all length three patterns that are matched\n",
    "# by over 1% of length three paths\n",
    "relevant_three_patterns = []\n",
    "for (x,y,z) in three_patt_freq.keys():\n",
    "    if three_patt_freq[(x,y,z)] >= 0.01:\n",
    "        relevant_three_patterns.append([x,y,z])\n",
    "        \n",
    "# Outputs the length three patterns that have more than 1% matches.\n",
    "print(relevant_three_patterns)"
   ]
  },
  {
   "cell_type": "code",
   "execution_count": 5,
   "id": "fcd731ab",
   "metadata": {},
   "outputs": [
    {
     "data": {
      "text/plain": [
       "{('N', 'N', 'N'): 186,\n",
       " ('N', 'N', 'F'): 1367,\n",
       " ('N', 'N', 'P'): 0,\n",
       " ('N', 'F', 'N'): 2129,\n",
       " ('N', 'F', 'F'): 22351,\n",
       " ('N', 'F', 'P'): 79,\n",
       " ('N', 'P', 'N'): 0,\n",
       " ('N', 'P', 'F'): 0,\n",
       " ('N', 'P', 'P'): 0,\n",
       " ('F', 'N', 'N'): 4085,\n",
       " ('F', 'N', 'F'): 40586,\n",
       " ('F', 'N', 'P'): 63,\n",
       " ('F', 'F', 'N'): 204638,\n",
       " ('F', 'F', 'F'): 2198165,\n",
       " ('F', 'F', 'P'): 340,\n",
       " ('F', 'P', 'N'): 0,\n",
       " ('F', 'P', 'F'): 64,\n",
       " ('F', 'P', 'P'): 1,\n",
       " ('P', 'N', 'N'): 0,\n",
       " ('P', 'N', 'F'): 0,\n",
       " ('P', 'N', 'P'): 0,\n",
       " ('P', 'F', 'N'): 3,\n",
       " ('P', 'F', 'F'): 235,\n",
       " ('P', 'F', 'P'): 0,\n",
       " ('P', 'P', 'N'): 0,\n",
       " ('P', 'P', 'F'): 0,\n",
       " ('P', 'P', 'P'): 0}"
      ]
     },
     "execution_count": 5,
     "metadata": {},
     "output_type": "execute_result"
    }
   ],
   "source": [
    "three_patt_count"
   ]
  },
  {
   "cell_type": "code",
   "execution_count": 53,
   "id": "7284d4b8",
   "metadata": {},
   "outputs": [],
   "source": [
    "# For each path pattern of length 4, stores \n",
    "# the number of matches in a dictionary and\n",
    "# accumulates the total number of paths.\n",
    "four_patt_count = {}\n",
    "total_4_paths = 0\n",
    "for x in ['N', 'F', 'P']:\n",
    "    for y in ['N', 'F', 'P']:\n",
    "        for z in ['N', 'F', 'P']:\n",
    "            for w in ['N', 'F', 'P']:\n",
    "                num_paths = get_num_paths_dir(eleCme_orc, [x, y, z, w])\n",
    "                four_patt_count[(x, y, z, w)] = num_paths\n",
    "                total_4_paths = total_4_paths + num_paths\n",
    "                \n",
    "# Converts the dictionary of match counts to\n",
    "# a dictionary of match frequencies relative\n",
    "# to all matches.\n",
    "four_patt_freq = {}\n",
    "for patt in four_patt_count.keys():\n",
    "    four_patt_freq[patt] = four_patt_count[patt]/total_4_paths\n",
    "\n",
    "    \n",
    "# Gets a list of all length four patterns that are matched \n",
    "# by over 1% of length four paths\n",
    "relevant_four_patterns = []\n",
    "for (x,y,z,w) in four_patt_freq.keys():\n",
    "    if four_patt_freq[(x,y,z,w)] >= 0.01:\n",
    "        relevant_four_patterns.append([x,y,z,w])\n",
    "\n",
    "# Outputs the length four patterns that have more than 1% matches.\n",
    "relevant_four_patterns"
   ]
  },
  {
   "cell_type": "markdown",
   "id": "f07ea9f5",
   "metadata": {},
   "source": [
    "### Null hypothesis  testing"
   ]
  },
  {
   "cell_type": "code",
   "execution_count": 6,
   "id": "b39e9746",
   "metadata": {},
   "outputs": [],
   "source": [
    "# Gets n random graphs that preserve the degree sequence \n",
    "# of the input graph (which is in networkX format).\n",
    "# Returns a list of these graphs.\n",
    "def get_null_graphs(G_nx, n):\n",
    "    \n",
    "    # Converts to networkit graph\n",
    "    G = nk.nxadapter.nx2nk(G_nx, weightAttr=None)\n",
    "    null_graphs = []\n",
    "    for i in range(n):\n",
    "        \n",
    "        # Computes a degree sequence preserving random graph\n",
    "        sampledGraph = nk.nxadapter.nk2nx(nk.randomization.GlobalCurveball(G, number_of_global_rounds=20, allowSelfLoops=False, degreePreservingShufflePreprocessing=True).run().getGraph())\n",
    "        \n",
    "        # Computes Ollivier-Ricci curvature of this graph\n",
    "        orc = OllivierRicci(sampledGraph, alpha=0.5, verbose=\"ERROR\")\n",
    "        orc.compute_ricci_curvature()\n",
    "        G_orc = orc.G.copy()\n",
    "        null_graphs.append(G_orc)\n",
    "    return null_graphs\n",
    "\n",
    "# Given a list of directed null graphs, a file name, and a \n",
    "# list of paterns, stores the number of paths that match\n",
    "# that pattern in each graph. File is formatted so each line\n",
    "# is \"pattern #matchG1 #matchG2 ..., #matchGn\" where #matchGi is\n",
    "# the number of paths that match the given pattern in graph i.\n",
    "def write_null_vals_dir(null_graphs, filename, patts):\n",
    "    with open(filename, 'w') as f:\n",
    "        for patt in patts:\n",
    "            f.write(str(patt))\n",
    "            for null_graph in null_graphs:\n",
    "                num = get_num_paths_dir(null_graph, patt)\n",
    "                f.write(' %d' % num)\n",
    "            f.write('\\n')\n",
    "            \n",
    "            "
   ]
  },
  {
   "cell_type": "code",
   "execution_count": 7,
   "id": "8886e4e9",
   "metadata": {},
   "outputs": [],
   "source": [
    "import pickle\n",
    "\n",
    "# Stores the sample of 1000 null graphs in a file. Commented out since already computed.\n",
    "\n",
    "#null_graphs = get_null_graphs(eleCme, 1000)\n",
    "#with open(\"null_graphs\", 'wb') as f:\n",
    "#    pickle.dump(null_graphs, f)"
   ]
  },
  {
   "cell_type": "code",
   "execution_count": 8,
   "id": "9105f810",
   "metadata": {},
   "outputs": [],
   "source": [
    "# Returns the number of null graphs \n",
    "def null_graphs():\n",
    "    null_graphs = []\n",
    "    with open(\"null_graphs\", 'rb') as f:\n",
    "        null_graphs = pickle.load(f)\n",
    "    return null_graphs"
   ]
  },
  {
   "cell_type": "code",
   "execution_count": 9,
   "id": "3f3d4fd9",
   "metadata": {},
   "outputs": [],
   "source": [
    "# Computes number of matches for ['F', 'F', 'F'] pattern \n",
    "# in each null graph and stores the result in a file.\n",
    "# May take awhile to run. Commented out since already computed\n",
    "\n",
    "#write_null_vals_dir(null_graphs(), 'CElegans-allpaths-3-Motifs-[F, F, F].txt', \n",
    "#                [['F', 'F', 'F']])"
   ]
  },
  {
   "cell_type": "code",
   "execution_count": 10,
   "id": "2b6235f3",
   "metadata": {},
   "outputs": [
    {
     "data": {
      "text/plain": [
       "<matplotlib.lines.Line2D at 0x7fc705759c40>"
      ]
     },
     "execution_count": 10,
     "metadata": {},
     "output_type": "execute_result"
    },
    {
     "data": {
      "image/png": "[encoded data removed]",
      "text/plain": [
       "<Figure size 432x288 with 1 Axes>"
      ]
     },
     "metadata": {
      "needs_background": "light"
     },
     "output_type": "display_data"
    }
   ],
   "source": [
    "# Visualizes null distribution for [F, F, F] pattern\n",
    "nul_vals = []\n",
    "patts = []\n",
    "with open('CElegans-allpaths-3-Motifs-[F, F, F].txt') as f:\n",
    "    for line in f:\n",
    "        temp = line.split()\n",
    "        patt = temp[0]+temp[1]+temp[2]\n",
    "        vals = [int(i) for i in temp[3:]]\n",
    "        patts.append(patt)\n",
    "        nul_vals.append(vals)\n",
    "        \n",
    "plt.hist(nul_vals[0], 100)\n",
    "plt.title(\"Neutral-Neutral-Neutral Path Distribution\")\n",
    "plt.xlabel(\"Number of Paths\")\n",
    "plt.ylabel(\"Frequency\")\n",
    "\n",
    "# Draws line at the number of matches in C. Elegans\n",
    "plt.axvline(x = get_num_paths_dir(eleCme_orc, ['F', 'F', 'F']), color = 'r')"
   ]
  },
  {
   "cell_type": "code",
   "execution_count": 12,
   "id": "d2acef59",
   "metadata": {},
   "outputs": [],
   "source": [
    "# Computes number of matches for ['F', 'N', 'F'] and ['F', 'F', 'N'] \n",
    "# patterns in each null graph and stores the result in a file.\n",
    "# Commented out since already stored.\n",
    "\n",
    "write_null_vals_dir(null_graphs(), 'CElegans-allpaths-3-Motifs-[F, N, F]-[F, F, N].txt', \n",
    "                [['F', 'N', 'F'], ['F', 'F', 'N']])"
   ]
  },
  {
   "cell_type": "code",
   "execution_count": 17,
   "id": "2f92b6a2",
   "metadata": {},
   "outputs": [
    {
     "data": {
      "text/plain": [
       "<matplotlib.lines.Line2D at 0x7fc6800fd790>"
      ]
     },
     "execution_count": 17,
     "metadata": {},
     "output_type": "execute_result"
    },
    {
     "data": {
      "image/png": "[encoded data removed]",
      "text/plain": [
       "<Figure size 432x288 with 1 Axes>"
      ]
     },
     "metadata": {
      "needs_background": "light"
     },
     "output_type": "display_data"
    }
   ],
   "source": [
    "# Visualizes null distribution\n",
    "nul_vals = []\n",
    "patts = []\n",
    "with open('CElegans-allpaths-3-Motifs-[F, N, F]-[F, F, N].txt') as f:\n",
    "    for line in f:\n",
    "        temp = line.split()\n",
    "        patt = temp[0]+temp[1]+temp[2]\n",
    "        vals = [int(i) for i in temp[3:]]\n",
    "        patts.append(patt)\n",
    "        nul_vals.append(vals)\n",
    "        \n",
    "plt.hist(nul_vals[0], 20)\n",
    "plt.title(\"Flat-Negative-Flat Path Distribution\")\n",
    "plt.xlabel(\"Number of Paths\")\n",
    "plt.ylabel(\"Frequency\")\n",
    "\n",
    "# Draws line at the number of matches in C. Elegans\n",
    "plt.axvline(x = get_num_paths_dir(eleCme_orc, ['F', 'N', 'F']), color = 'r')"
   ]
  },
  {
   "cell_type": "code",
   "execution_count": 16,
   "id": "874358ea",
   "metadata": {},
   "outputs": [
    {
     "data": {
      "text/plain": [
       "<matplotlib.lines.Line2D at 0x7fc70a69b160>"
      ]
     },
     "execution_count": 16,
     "metadata": {},
     "output_type": "execute_result"
    },
    {
     "data": {
      "image/png": "[encoded data removed]",
      "text/plain": [
       "<Figure size 432x288 with 1 Axes>"
      ]
     },
     "metadata": {
      "needs_background": "light"
     },
     "output_type": "display_data"
    }
   ],
   "source": [
    "# Visualizes null distribution\n",
    "plt.hist(nul_vals[1], 100)\n",
    "plt.title(\"Flat-Flat-Negative Path Distribution\")\n",
    "plt.xlabel(\"Number of Paths\")\n",
    "plt.ylabel(\"Frequency\")\n",
    "\n",
    "# Draws line at the number of matches in C. Elegans\n",
    "plt.axvline(x = get_num_paths_dir(eleCme_orc, ['F', 'F', 'N']), color = 'r')"
   ]
  },
  {
   "cell_type": "markdown",
   "id": "f0d0a650",
   "metadata": {},
   "source": [
    "### Shortest Path Analysis"
   ]
  },
  {
   "cell_type": "markdown",
   "id": "9f2e1836",
   "metadata": {},
   "source": [
    "# Testing"
   ]
  },
  {
   "cell_type": "code",
   "execution_count": 7,
   "id": "acd5c189",
   "metadata": {},
   "outputs": [],
   "source": [
    "import scipy\n",
    "\n",
    "# Finds the number of 2-paths in a directed graph using the path motif algorithm\n",
    "def num_2paths_dir(G_orc): \n",
    "    return (get_num_paths_dir(G_orc, ['N', 'N'])+get_num_paths_dir(G_orc, ['P', 'P'])\n",
    "            +get_num_paths_dir(G_orc, ['P', 'N'])+get_num_paths_dir(G_orc, ['N', 'P'])\n",
    "            +get_num_paths_dir(G_orc, ['P', 'F'])+get_num_paths_dir(G_orc, ['F', 'P'])\n",
    "            +get_num_paths_dir(G_orc, ['N', 'F'])+get_num_paths_dir(G_orc, ['F', 'N'])\n",
    "            +get_num_paths_dir(G_orc, ['F', 'F']))\n",
    "\n",
    "def num_3paths_dir(G_orc): \n",
    "    return (get_num_paths_dir(G_orc, ['N', 'N', 'N'])+get_num_paths_dir(G_orc, ['F', 'F', 'F'])+get_num_paths_dir(G_orc, ['P', 'P','P'])\n",
    "            +get_num_paths_dir(G_orc, ['N', 'N', 'F'])+get_num_paths_dir(G_orc, ['F', 'F', 'N'])+get_num_paths_dir(G_orc, ['P', 'P','N'])\n",
    "            +get_num_paths_dir(G_orc, ['N', 'N', 'P'])+get_num_paths_dir(G_orc, ['F', 'F', 'P'])+get_num_paths_dir(G_orc, ['P', 'P','F'])\n",
    "            +get_num_paths_dir(G_orc, ['N', 'F', 'N'])+get_num_paths_dir(G_orc, ['F', 'N', 'F'])+get_num_paths_dir(G_orc, ['P', 'F','P'])\n",
    "            +get_num_paths_dir(G_orc, ['N', 'F', 'F'])+get_num_paths_dir(G_orc, ['F', 'N', 'N'])+get_num_paths_dir(G_orc, ['P', 'F','N'])\n",
    "            +get_num_paths_dir(G_orc, ['N', 'F', 'P'])+get_num_paths_dir(G_orc, ['F', 'N', 'P'])+get_num_paths_dir(G_orc, ['P', 'F','F'])\n",
    "            +get_num_paths_dir(G_orc, ['N', 'P', 'N'])+get_num_paths_dir(G_orc, ['F', 'P', 'F'])+get_num_paths_dir(G_orc, ['P', 'N','P'])\n",
    "            +get_num_paths_dir(G_orc, ['N', 'P', 'F'])+get_num_paths_dir(G_orc, ['F', 'P', 'N'])+get_num_paths_dir(G_orc, ['P', 'N','N'])\n",
    "            +get_num_paths_dir(G_orc, ['N', 'P', 'P'])+get_num_paths_dir(G_orc, ['F', 'P', 'P'])+get_num_paths_dir(G_orc, ['P', 'N','P']))\n",
    "\n"
   ]
  },
  {
   "cell_type": "code",
   "execution_count": null,
   "id": "19671360",
   "metadata": {},
   "outputs": [],
   "source": [
    "# Checks that we can recover total number of \n",
    "# 2 paths for a small directed graph for which I was\n",
    "# also able to verify all quantities by hand.\n",
    "B = np.array([[0,1,1,0], [0,0,1,0], [0,1,0,1], [0,0,0,0]])\n",
    "G = nx.DiGraph(B)\n",
    "orc = OllivierRicci(G, alpha=0.5, verbose=\"TRACE\")\n",
    "orc.compute_ricci_curvature()\n",
    "G_orc = orc.G.copy()\n",
    "print(num_2paths_dir(G_orc) == 4) \n",
    "print(num_3paths_dir(G_orc) == 1) "
   ]
  },
  {
   "cell_type": "code",
   "execution_count": null,
   "id": "889db545",
   "metadata": {},
   "outputs": [],
   "source": []
  }
 ],
 "metadata": {
  "kernelspec": {
   "display_name": "Python 3 (ipykernel)",
   "language": "python",
   "name": "python3"
  },
  "language_info": {
   "codemirror_mode": {
    "name": "ipython",
    "version": 3
   },
   "file_extension": ".py",
   "mimetype": "text/x-python",
   "name": "python",
   "nbconvert_exporter": "python",
   "pygments_lexer": "ipython3",
   "version": "3.9.7"
  }
 },
 "nbformat": 4,
 "nbformat_minor": 5
}
