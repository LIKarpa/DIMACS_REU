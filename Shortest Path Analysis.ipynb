{
 "cells": [
  {
   "cell_type": "code",
   "execution_count": 7,
   "id": "80290557",
   "metadata": {},
   "outputs": [],
   "source": [
    "\n",
    "import networkit as nk\n",
    "import networkx as nx"
   ]
  },
  {
   "cell_type": "code",
   "execution_count": 12,
   "id": "d3ae40e8",
   "metadata": {},
   "outputs": [],
   "source": [
    "import pickle\n",
    "with open(\"null_graphs\", 'rb') as f:\n",
    "    get_null_graphs = pickle.load(f)"
   ]
  },
  {
   "cell_type": "code",
   "execution_count": 13,
   "id": "3f1444bf",
   "metadata": {},
   "outputs": [],
   "source": [
    "import copy\n",
    "\n",
    "# Takes in a list of characters from {N,F,P} and a graph with \n",
    "# edge curvature attribute. Returns the number of paths from \n",
    "# each node with the curvature pattern specified by the input list.\n",
    "# N means negative curvature, F means neutral curvature, and P \n",
    "# means positive curvature. We consider an edge's curvature value to \n",
    "# be negative when between [-1, -0.33), flat \n",
    "# when between [-0.33, 0.33], and positive when between (0.33,1]. \n",
    "# E.g. A sequence of edges with curvatures -0.3, .56, 0 respectively\n",
    "# would match the input pattern [F, P, F].\n",
    "def get_paths(G, patt):\n",
    "    \n",
    "    # If pattern is empty then there are no matches\n",
    "    if len(patt) == 0:\n",
    "        return 0\n",
    "    else:\n",
    "        \n",
    "        # Collects all paths\n",
    "        all_paths = []\n",
    "        for x in G.nodes():\n",
    "            \n",
    "            # Iteratively puts all_paths back intro function call\n",
    "            # to append new paths.\n",
    "            get_paths_helper(G, patt, all_paths, [x], x)\n",
    "        return all_paths\n",
    "\n",
    "\n",
    "# Input is a graph, the remaining curvature pattern to be matched, \n",
    "# a list to store all the paths, a variable that stores the current path \n",
    "# as a sequence of vertices during the recursive work, and the current vertex. \n",
    "# Adds paths that, building off of the current path, completely match \n",
    "# input pattern to the list of all paths.\n",
    "# E.g. When cur_path is [v1, v2, v3] and there is an edge (v3, v4) with\n",
    "# curvature -0.6 and another edge (v4, v5) with curvature 0.1 and another \n",
    "# edge (v4, v6) with curvature 0.2 and the remaining pattern is [N, F] then \n",
    "# we will add the paths [v1, v2, v3, v4, v5] and [v1, v2, v3, v4, v6] to \n",
    "# our total paths list.\n",
    "def get_paths_helper(G, patt, all_paths, cur_path, cur_vert):\n",
    "    \n",
    "    # Base case. When the pattern is empty, the current path is \n",
    "    # added to the list of all paths since the current path\n",
    "    # matched the initial input pattern.\n",
    "    if len(patt) == 0:\n",
    "        all_paths.append(copy.copy(cur_path)) \n",
    "    else:\n",
    "        \n",
    "        # If pattern is not exhausted, then for each neighbor of the\n",
    "        # current vertex, see if the edge to any of its neighbors\n",
    "        # matches the next curvature value in the pattern. If so repeat\n",
    "        # the procedure on those nodes.\n",
    "        for neighbor in G.neighbors(cur_vert):\n",
    "            \n",
    "            # This prevents the algorithms from finding all the walks.\n",
    "            # We do not want vertices repeated in a path.\n",
    "            if neighbor in cur_path:\n",
    "                continue\n",
    "            \n",
    "            # Stores the curvature of the edge from the current vertex \n",
    "            # to the particular neighbor\n",
    "            curv = G.get_edge_data(cur_vert, neighbor)['ricciCurvature']\n",
    "            \n",
    "            # Condition checks whether the sign of the curvature on the edge\n",
    "            # matches the corresponding character of the next pattern element.\n",
    "            if ((patt[0] == 'N') and (curv < -0.33)) or ((patt[0] == 'P') and (curv > 0.33)) or ((patt[0] == 'F') and (curv <= 0.33) and (curv >= -0.33)):\n",
    "                \n",
    "                # If the edge has a curvature of the matching sign then\n",
    "                # the neighbor node is added to the current path.\n",
    "                cur_path.append(neighbor)\n",
    "                \n",
    "                # We recurse on the neighbor node\n",
    "                get_paths_helper(G, patt[1:], all_paths, cur_path, neighbor)\n",
    "                \n",
    "                # We remove the current neighbor node for the next iteration \n",
    "                # so we can consider a different neighbor node.\n",
    "                cur_path.pop()\n",
    "    return  \n",
    "\n",
    "# Returns the number of paths in direcyed input graph that \n",
    "# match the curvature pattern specified by the variable patt.\n",
    "def get_num_paths_dir(G, patt):\n",
    "    all_paths = get_paths(G, patt)\n",
    "    return len(all_paths)\n"
   ]
  },
  {
   "cell_type": "code",
   "execution_count": 9,
   "id": "1b908dde",
   "metadata": {},
   "outputs": [
    {
     "name": "stdout",
     "output_type": "stream",
     "text": [
      "Requirement already satisfied: GraphRicciCurvature in /Users/Liron/opt/anaconda3/lib/python3.9/site-packages (0.5.3.1)\n",
      "Requirement already satisfied: networkit>=6.1 in /Users/Liron/opt/anaconda3/lib/python3.9/site-packages (from GraphRicciCurvature) (9.0)\n",
      "Requirement already satisfied: python-louvain in /Users/Liron/opt/anaconda3/lib/python3.9/site-packages (from GraphRicciCurvature) (0.16)\n",
      "Requirement already satisfied: cython in /Users/Liron/opt/anaconda3/lib/python3.9/site-packages (from GraphRicciCurvature) (0.29.24)\n",
      "Requirement already satisfied: scipy>=1.0 in /Users/Liron/opt/anaconda3/lib/python3.9/site-packages (from GraphRicciCurvature) (1.8.1)\n",
      "Requirement already satisfied: packaging in /Users/Liron/opt/anaconda3/lib/python3.9/site-packages (from GraphRicciCurvature) (21.0)\n",
      "Requirement already satisfied: pot>=0.8.0 in /Users/Liron/opt/anaconda3/lib/python3.9/site-packages (from GraphRicciCurvature) (0.8.2)\n",
      "Requirement already satisfied: networkx>=2.0 in /Users/Liron/opt/anaconda3/lib/python3.9/site-packages (from GraphRicciCurvature) (2.8.3)\n",
      "Requirement already satisfied: numpy in /Users/Liron/opt/anaconda3/lib/python3.9/site-packages (from GraphRicciCurvature) (1.20.3)\n",
      "Requirement already satisfied: pyparsing>=2.0.2 in /Users/Liron/opt/anaconda3/lib/python3.9/site-packages (from packaging->GraphRicciCurvature) (3.0.4)\n",
      "Requirement already satisfied: scikit-learn in /Users/Liron/opt/anaconda3/lib/python3.9/site-packages (0.24.2)\n",
      "Requirement already satisfied: threadpoolctl>=2.0.0 in /Users/Liron/opt/anaconda3/lib/python3.9/site-packages (from scikit-learn) (2.2.0)\n",
      "Requirement already satisfied: joblib>=0.11 in /Users/Liron/opt/anaconda3/lib/python3.9/site-packages (from scikit-learn) (1.1.0)\n",
      "Requirement already satisfied: numpy>=1.13.3 in /Users/Liron/opt/anaconda3/lib/python3.9/site-packages (from scikit-learn) (1.20.3)\n",
      "Requirement already satisfied: scipy>=0.19.1 in /Users/Liron/opt/anaconda3/lib/python3.9/site-packages (from scikit-learn) (1.8.1)\n"
     ]
    }
   ],
   "source": [
    "# Installs necessary modules\n",
    "!pip install GraphRicciCurvature\n",
    "!pip install scikit-learn\n",
    "\n",
    "# import sys\n",
    "# sys.path.append(\"../\")\n",
    "import networkx as nx\n",
    "import networkit as nk\n",
    "import numpy as np\n",
    "import math\n",
    "\n",
    "# matplotlib setting\n",
    "%matplotlib inline\n",
    "import matplotlib.pyplot as plt\n",
    "\n",
    "# to print logs in jupyter notebook\n",
    "import logging\n",
    "logging.basicConfig(format='%(levelname)s:%(message)s', level=logging.ERROR)\n",
    "\n",
    "# load GraphRicciCuravture package\n",
    "from GraphRicciCurvature.OllivierRicci import OllivierRicci\n",
    "from GraphRicciCurvature.FormanRicci import FormanRicci\n",
    "\n",
    "\n",
    "# load python-louvain for modularity computation\n",
    "import community as community_louvain\n",
    "\n",
    "# for ARI computation\n",
    "from sklearn import preprocessing, metrics"
   ]
  },
  {
   "cell_type": "code",
   "execution_count": 15,
   "id": "f478df45",
   "metadata": {},
   "outputs": [],
   "source": [
    "# Returns the number of null graphs \n",
    "def null_graphs():\n",
    "    null_graphs = []\n",
    "    with open(\"null_graphs\", 'rb') as f:\n",
    "        null_graphs = pickle.load(f)\n",
    "    return null_graphs"
   ]
  },
  {
   "cell_type": "code",
   "execution_count": 16,
   "id": "83bf6dad",
   "metadata": {},
   "outputs": [
    {
     "name": "stderr",
     "output_type": "stream",
     "text": [
      "INFO:Edge weight not detected in graph, use \"weight\" as default edge weight.\n",
      "TRACE:Number of nodes: 272\n",
      "TRACE:Number of edges: 4388\n",
      "TRACE:Start to compute all pair shortest path.\n",
      "TRACE:0.010150 secs for all pair by NetworKit.\n",
      "INFO:0.382386 secs for Ricci curvature computation.\n"
     ]
    }
   ],
   "source": [
    "# Reads in C. Elegans Connectome\n",
    "eleCme = nx.read_graphml(\"c.elegans_neural.male_1.graphml\")\n",
    "\n",
    "# Self loops are removed since no self loop can be on any path.\n",
    "# The ricci curvature computation would remove self loops anyway\n",
    "# so it is best to remove them beforehand. This way when we compute\n",
    "# random graphs we are not removing a potentially different\n",
    "# number of self loops each time to compute the curvature.\n",
    "self_loops = []\n",
    "for (v, w) in eleCme.edges():\n",
    "    if v == w:\n",
    "        self_loops.append(v)\n",
    "for v in self_loops:\n",
    "    eleCme.remove_edge(v,v)\n",
    "    \n",
    "# Computes Ricci Curvature for C. Elegans Connectome without self-loops\n",
    "orc = OllivierRicci(eleCme, alpha=0.5, verbose=\"TRACE\")\n",
    "orc.compute_ricci_curvature()\n",
    "eleCme_orc = orc.G.copy()"
   ]
  },
  {
   "cell_type": "code",
   "execution_count": 17,
   "id": "f08623f1",
   "metadata": {},
   "outputs": [],
   "source": [
    "# Returns list of all shortest paths. A\n",
    "# path is given by the list of sequential \n",
    "# vertices that appear in that path.\n",
    "def get_all_shortest_paths(G_orc):\n",
    "    \n",
    "    # Gets dictionary of all shortest path\n",
    "    shortest_paths= nx.shortest_path(G_orc)\n",
    "    \n",
    "    # Converts that dictionary into a list\n",
    "    all_shortest_paths = []\n",
    "    for source in shortest_paths.keys():\n",
    "        for target in shortest_paths[source].keys():\n",
    "            all_shortest_paths.append(shortest_paths[source][target])\n",
    "    return all_shortest_paths\n",
    "\n",
    "\n",
    "# Given a graph with computed olliver-ricci\n",
    "# curvature computes number of matches\n",
    "# for each curvature pattern. Returns\n",
    "# a dictionary mapping a pattern\n",
    "# to the number of its matches.\n",
    "def count_short_patterns(G_orc):\n",
    "    \n",
    "    # Gets list of all shortest paths\n",
    "    all_shortest_paths = get_all_shortest_paths(G_orc)\n",
    "    \n",
    "    # For each path increments the pattern it matches\n",
    "    # to count number of matches for each pattern\n",
    "    count_short_patt = {}\n",
    "    for path in all_shortest_paths:\n",
    "        curr_patt = []\n",
    "        for i in range(0, len(path)-1):\n",
    "            curv = G_orc.get_edge_data(path[i], path[i+1])['ricciCurvature']\n",
    "            if curv < -0.33:\n",
    "                curr_patt.append('N')\n",
    "            elif curv > 0.33:\n",
    "                curr_patt.append('P')\n",
    "            else:\n",
    "                curr_patt.append('F')\n",
    "                \n",
    "        # Increments number of times the given pattern appears\n",
    "        if tuple(curr_patt) in count_short_patt.keys():\n",
    "            count_short_patt[tuple(curr_patt)] = count_short_patt[tuple(curr_patt)] + 1\n",
    "        else: \n",
    "            count_short_patt[tuple(curr_patt)] = 1\n",
    "    return count_short_patt"
   ]
  },
  {
   "cell_type": "code",
   "execution_count": 18,
   "id": "d6283d16",
   "metadata": {},
   "outputs": [],
   "source": [
    "# Input is a graph with copmuted Ollivier-Ricci\n",
    "# curvature. Gets those patterns which match \n",
    "# at least 1% of shortest paths.\n",
    "def get_relevant_patterns(G_orc):\n",
    "    count_short_patt = count_short_patterns(G_orc)\n",
    "    \n",
    "    # Gets number of shortest paths overall\n",
    "    total_short_paths = len(get_all_shortest_paths(G_orc))\n",
    "    \n",
    "    relevant_patts = []\n",
    "    \n",
    "    # Checks for each pattern if it\n",
    "    # matches over 1% of shortest paths.\n",
    "    for patt in count_short_patt.keys():\n",
    "        if count_short_patt[patt]/ total_short_paths >= 0.01:\n",
    "            relevant_patts.append(patt)\n",
    "            \n",
    "    return relevant_patts"
   ]
  },
  {
   "cell_type": "code",
   "execution_count": 19,
   "id": "cc542a0e",
   "metadata": {},
   "outputs": [
    {
     "name": "stderr",
     "output_type": "stream",
     "text": [
      "INFO:Edge weight not detected in graph, use \"weight\" as default edge weight.\n",
      "TRACE:Number of nodes: 272\n",
      "TRACE:Number of edges: 4388\n",
      "TRACE:Start to compute all pair shortest path.\n",
      "TRACE:0.015646 secs for all pair by NetworKit.\n",
      "INFO:0.351523 secs for Ricci curvature computation.\n"
     ]
    }
   ],
   "source": [
    "orc = OllivierRicci(eleCme, alpha=0.5, verbose=\"TRACE\")\n",
    "orc.compute_ricci_curvature()\n",
    "count_short_patt = count_short_patterns(eleCme_orc)\n",
    "relevant_patterns = get_relevant_patterns(eleCme_orc)"
   ]
  },
  {
   "cell_type": "code",
   "execution_count": 23,
   "id": "eed51845",
   "metadata": {},
   "outputs": [],
   "source": [
    "import copy \n",
    "\n",
    "# For each pattern that appears in over 1% of shortest paths\n",
    "# returns a dictionary from a pattern to the number of times \n",
    "# the pattern was matched in the first n null graphs stored \n",
    "# in the null graph file. \n",
    "def get_relevant_null_dist(n):\n",
    "    \n",
    "    # Initializes a dcitonary where each pattern that appears in \n",
    "    # over 1% of C. Elegans shortest paths is a key with initially\n",
    "    # an empty list assigned.\n",
    "    null_dist = {key: [] for key in relevant_patterns}\n",
    "    \n",
    "    # For each of the first n null graphs...\n",
    "    for null_graph in null_graphs()[0:n]:\n",
    "        \n",
    "        # Computes OllivierRicci curvature of the edges\n",
    "        orc = OllivierRicci(null_graph, alpha=0.5, verbose=\"TRACE\")\n",
    "        orc.compute_ricci_curvature()\n",
    "        G_orc = orc.G.copy()\n",
    "        \n",
    "        # Counts number of shortest paths matching each pattern\n",
    "        count_short_patt = count_short_patterns(G_orc)\n",
    "        \n",
    "        # Appends the number of matches for each pattern in \n",
    "        # current null graph\n",
    "        for patt in relevant_patterns:\n",
    "            if patt in count_short_patt.keys():\n",
    "                null_dist[patt].append(count_short_patt[patt])\n",
    "            else:\n",
    "                null_dist[patt].append(0)\n",
    "    return null_dist"
   ]
  },
  {
   "cell_type": "code",
   "execution_count": 27,
   "id": "385e0e0b",
   "metadata": {},
   "outputs": [],
   "source": [
    "# Stores the number of matches for each null graph in a file. \n",
    "# Commented out since only needs to be computed once.\n",
    "\n",
    "#start = timeit.default_timer()\n",
    "#null_dist = get_relevant_null_dist(1000)\n",
    "#with open(\"null_dist_shortest_path_elegans\", 'wb') as f:\n",
    "#    pickle.dump(null_dist, f)\n",
    "    \n",
    "#stop = timeit.default_timer()\n",
    "#execution_time = stop - start\n",
    "#print(execution_time)\n",
    "\n",
    "# Returns the dictionary storing the number of matches \n",
    "# for each pattern for null graph. \n",
    "def null_dist():\n",
    "    null_dist = {}\n",
    "    with open(\"null_dist_shortest_path_elegans\", 'rb') as f:\n",
    "        null_dist = pickle.load(f)\n",
    "    return null_dist"
   ]
  },
  {
   "cell_type": "code",
   "execution_count": 20,
   "id": "6c5e307e",
   "metadata": {},
   "outputs": [
    {
     "data": {
      "text/plain": [
       "[('F',),\n",
       " ('F', 'F'),\n",
       " ('F', 'N'),\n",
       " ('F', 'F', 'F'),\n",
       " ('F', 'F', 'N'),\n",
       " ('F', 'N', 'F'),\n",
       " ('F', 'F', 'F', 'F'),\n",
       " ('F', 'F', 'F', 'N'),\n",
       " ('F', 'F', 'N', 'F'),\n",
       " ('F', 'N', 'F', 'F'),\n",
       " ('F', 'F', 'F', 'F', 'F'),\n",
       " ('N', 'F'),\n",
       " ('N', 'F', 'F')]"
      ]
     },
     "execution_count": 20,
     "metadata": {},
     "output_type": "execute_result"
    }
   ],
   "source": [
    "relevant_patterns"
   ]
  },
  {
   "cell_type": "markdown",
   "id": "26f51a54",
   "metadata": {},
   "source": [
    "## Visualizing Pattern Match Distributions"
   ]
  },
  {
   "cell_type": "code",
   "execution_count": 29,
   "id": "1b7bc7f1",
   "metadata": {},
   "outputs": [
    {
     "data": {
      "text/plain": [
       "<matplotlib.lines.Line2D at 0x7faf58369070>"
      ]
     },
     "execution_count": 29,
     "metadata": {},
     "output_type": "execute_result"
    },
    {
     "data": {
      "image/png": "[encoded data removed]",
      "text/plain": [
       "<Figure size 432x288 with 1 Axes>"
      ]
     },
     "metadata": {
      "needs_background": "light"
     },
     "output_type": "display_data"
    }
   ],
   "source": [
    "plt.hist(null_dist()[('F', 'F', 'F')], 100)\n",
    "plt.title(\"Flat-Flat-Flat Shortest Path Distribution\")\n",
    "plt.xlabel(\"Number of Paths\")\n",
    "plt.ylabel(\"Frequency\")\n",
    "plt.axvline(x = count_short_patt[('F', 'F', 'F')], color = 'r')"
   ]
  },
  {
   "cell_type": "code",
   "execution_count": 30,
   "id": "3755f736",
   "metadata": {},
   "outputs": [
    {
     "data": {
      "text/plain": [
       "<matplotlib.lines.Line2D at 0x7faf43919790>"
      ]
     },
     "execution_count": 30,
     "metadata": {},
     "output_type": "execute_result"
    },
    {
     "data": {
      "image/png": "[encoded data removed]",
      "text/plain": [
       "<Figure size 432x288 with 1 Axes>"
      ]
     },
     "metadata": {
      "needs_background": "light"
     },
     "output_type": "display_data"
    }
   ],
   "source": [
    "plt.hist(null_dist()[('F', 'F', 'N')], 100)\n",
    "plt.title(\"Flat-Flat-Negative Shortest Path Distribution\")\n",
    "plt.xlabel(\"Number of Paths\")\n",
    "plt.ylabel(\"Frequency\")\n",
    "plt.axvline(x = count_short_patt[('F', 'F', 'N')], color = 'r')"
   ]
  },
  {
   "cell_type": "code",
   "execution_count": 31,
   "id": "e54cac2b",
   "metadata": {},
   "outputs": [
    {
     "data": {
      "text/plain": [
       "<matplotlib.lines.Line2D at 0x7fafded3b130>"
      ]
     },
     "execution_count": 31,
     "metadata": {},
     "output_type": "execute_result"
    },
    {
     "data": {
      "image/png": "[encoded data removed]",
      "text/plain": [
       "<Figure size 432x288 with 1 Axes>"
      ]
     },
     "metadata": {
      "needs_background": "light"
     },
     "output_type": "display_data"
    }
   ],
   "source": [
    "plt.hist(null_dist()[('F', 'N', 'F')], 20)\n",
    "plt.title(\"Flat-Negative-Flat Shortest Path Distribution\")\n",
    "plt.xlabel(\"Number of Paths\")\n",
    "plt.ylabel(\"Frequency\")\n",
    "plt.axvline(x = count_short_patt[('F', 'N', 'F')], color = 'r')"
   ]
  },
  {
   "cell_type": "code",
   "execution_count": 32,
   "id": "1bdb1802",
   "metadata": {},
   "outputs": [
    {
     "data": {
      "text/plain": [
       "<matplotlib.lines.Line2D at 0x7fafde776d60>"
      ]
     },
     "execution_count": 32,
     "metadata": {},
     "output_type": "execute_result"
    },
    {
     "data": {
      "image/png": "[encoded data removed]",
      "text/plain": [
       "<Figure size 432x288 with 1 Axes>"
      ]
     },
     "metadata": {
      "needs_background": "light"
     },
     "output_type": "display_data"
    }
   ],
   "source": [
    "plt.hist(null_dist()[('N', 'F', 'F')], 20)\n",
    "plt.title(\"Negative-Flat-Flat Shortest Path Distribution\")\n",
    "plt.xlabel(\"Number of Paths\")\n",
    "plt.ylabel(\"Frequency\")\n",
    "plt.axvline(x = count_short_patt[('N', 'F', 'F')], color = 'r')"
   ]
  },
  {
   "cell_type": "code",
   "execution_count": 33,
   "id": "e3afdeb2",
   "metadata": {},
   "outputs": [
    {
     "data": {
      "text/plain": [
       "<matplotlib.lines.Line2D at 0x7faeeb2c6c70>"
      ]
     },
     "execution_count": 33,
     "metadata": {},
     "output_type": "execute_result"
    },
    {
     "data": {
      "image/png": "[encoded data removed]",
      "text/plain": [
       "<Figure size 432x288 with 1 Axes>"
      ]
     },
     "metadata": {
      "needs_background": "light"
     },
     "output_type": "display_data"
    }
   ],
   "source": [
    "plt.hist(null_dist()[('F', 'F', 'F', 'F')], 20)\n",
    "plt.title(\"Flat-Flat-Flat-Flat Shortest Path Distribution\")\n",
    "plt.xlabel(\"Number of Paths\")\n",
    "plt.ylabel(\"Frequency\")\n",
    "plt.axvline(x = count_short_patt[('F', 'F', 'F', 'F')], color = 'r')"
   ]
  },
  {
   "cell_type": "code",
   "execution_count": 34,
   "id": "729357df",
   "metadata": {},
   "outputs": [
    {
     "data": {
      "text/plain": [
       "<matplotlib.lines.Line2D at 0x7faee782fa30>"
      ]
     },
     "execution_count": 34,
     "metadata": {},
     "output_type": "execute_result"
    },
    {
     "data": {
      "image/png": "[encoded data removed]",
      "text/plain": [
       "<Figure size 432x288 with 1 Axes>"
      ]
     },
     "metadata": {
      "needs_background": "light"
     },
     "output_type": "display_data"
    }
   ],
   "source": [
    "plt.hist(null_dist()[('F', 'F', 'F', 'N')], 20)\n",
    "plt.title(\"Flat-Flat-Flat-Negative Shortest Path Distribution\")\n",
    "plt.xlabel(\"Number of Paths\")\n",
    "plt.ylabel(\"Frequency\")\n",
    "plt.axvline(x = count_short_patt[('F', 'F', 'F', 'N')], color = 'r')"
   ]
  },
  {
   "cell_type": "code",
   "execution_count": 35,
   "id": "d0a5e41e",
   "metadata": {},
   "outputs": [
    {
     "data": {
      "text/plain": [
       "<matplotlib.lines.Line2D at 0x7faf121cf1f0>"
      ]
     },
     "execution_count": 35,
     "metadata": {},
     "output_type": "execute_result"
    },
    {
     "data": {
      "image/png": "[encoded data removed]",
      "text/plain": [
       "<Figure size 432x288 with 1 Axes>"
      ]
     },
     "metadata": {
      "needs_background": "light"
     },
     "output_type": "display_data"
    }
   ],
   "source": [
    "plt.hist(null_dist()[('F', 'F', 'N', 'F')], 20)\n",
    "plt.title(\"Flat-Flat-Negative-Flat Shortest Path Distribution\")\n",
    "plt.xlabel(\"Number of Paths\")\n",
    "plt.ylabel(\"Frequency\")\n",
    "plt.axvline(x = count_short_patt[('F', 'F', 'F', 'N')], color = 'r')"
   ]
  },
  {
   "cell_type": "code",
   "execution_count": 37,
   "id": "a8d7b25c",
   "metadata": {},
   "outputs": [
    {
     "data": {
      "text/plain": [
       "<matplotlib.lines.Line2D at 0x7fafded6df10>"
      ]
     },
     "execution_count": 37,
     "metadata": {},
     "output_type": "execute_result"
    },
    {
     "data": {
      "image/png": "[encoded data removed]",
      "text/plain": [
       "<Figure size 432x288 with 1 Axes>"
      ]
     },
     "metadata": {
      "needs_background": "light"
     },
     "output_type": "display_data"
    }
   ],
   "source": [
    "plt.hist(null_dist()[('F', 'N', 'F', 'F')], 20)\n",
    "plt.title(\"Flat-Negative-Flat-Flat Shortest Path Distribution\")\n",
    "plt.xlabel(\"Number of Paths\")\n",
    "plt.ylabel(\"Frequency\")\n",
    "plt.axvline(x = count_short_patt[('F', 'F', 'F', 'N')], color = 'r')"
   ]
  },
  {
   "cell_type": "code",
   "execution_count": 36,
   "id": "7960e33e",
   "metadata": {},
   "outputs": [
    {
     "data": {
      "text/plain": [
       "<matplotlib.lines.Line2D at 0x7fafdf1ec4f0>"
      ]
     },
     "execution_count": 36,
     "metadata": {},
     "output_type": "execute_result"
    },
    {
     "data": {
      "image/png": "[encoded data removed]",
      "text/plain": [
       "<Figure size 432x288 with 1 Axes>"
      ]
     },
     "metadata": {
      "needs_background": "light"
     },
     "output_type": "display_data"
    }
   ],
   "source": [
    "plt.hist(null_dist()[('F', 'F', 'F', 'F', 'F')], 1)\n",
    "plt.title(\"Flat-Flat-Flat-Flat-Flat Shortest Path Distribution\")\n",
    "plt.xlabel(\"Number of Paths\")\n",
    "plt.ylabel(\"Frequency\")\n",
    "plt.axvline(x = count_short_patt[('F', 'F', 'F', 'F', 'F')], color = 'r')"
   ]
  },
  {
   "cell_type": "markdown",
   "id": "8d7bfd7d",
   "metadata": {},
   "source": [
    "## Understanding Why Above Plots Occur"
   ]
  },
  {
   "cell_type": "code",
   "execution_count": 210,
   "id": "e059bea7",
   "metadata": {},
   "outputs": [
    {
     "data": {
      "text/plain": [
       "(array([0.0000e+00, 2.7200e+02, 4.3880e+03, 3.6895e+04, 2.5455e+04,\n",
       "        2.3740e+03, 3.2000e+01, 0.0000e+00, 0.0000e+00, 0.0000e+00]),\n",
       " array([ 0,  1,  2,  3,  4,  5,  6,  7,  8,  9, 10]),\n",
       " <BarContainer object of 10 artists>)"
      ]
     },
     "execution_count": 210,
     "metadata": {},
     "output_type": "execute_result"
    },
    {
     "data": {
      "image/png": "[encoded data removed]",
      "text/plain": [
       "<Figure size 432x288 with 1 Axes>"
      ]
     },
     "metadata": {
      "needs_background": "light"
     },
     "output_type": "display_data"
    }
   ],
   "source": [
    "import statistics\n",
    "plt.hist([len(path) for path in get_all_shortest_paths(G_orc)], [0,1,2,3,4,5,6,7,8,9,10])"
   ]
  },
  {
   "cell_type": "code",
   "execution_count": 209,
   "id": "8f002496",
   "metadata": {},
   "outputs": [
    {
     "data": {
      "text/plain": [
       "3.771839345395874"
      ]
     },
     "execution_count": 209,
     "metadata": {},
     "output_type": "execute_result"
    },
    {
     "data": {
      "image/png": "[encoded data removed]",
      "text/plain": [
       "<Figure size 432x288 with 1 Axes>"
      ]
     },
     "metadata": {
      "needs_background": "light"
     },
     "output_type": "display_data"
    }
   ],
   "source": [
    "plt.hist([len(path) for path in get_all_shortest_paths(Elegans_orc)], [0,1,2,3,4,5,6,7,8,9,10])\n",
    "statistics.mean([len(path) for path in get_all_shortest_paths(Elegans_orc)])"
   ]
  },
  {
   "cell_type": "code",
   "execution_count": null,
   "id": "6ca484ae",
   "metadata": {},
   "outputs": [],
   "source": []
  }
 ],
 "metadata": {
  "kernelspec": {
   "display_name": "Python 3 (ipykernel)",
   "language": "python",
   "name": "python3"
  },
  "language_info": {
   "codemirror_mode": {
    "name": "ipython",
    "version": 3
   },
   "file_extension": ".py",
   "mimetype": "text/x-python",
   "name": "python",
   "nbconvert_exporter": "python",
   "pygments_lexer": "ipython3",
   "version": "3.9.7"
  }
 },
 "nbformat": 4,
 "nbformat_minor": 5
}
